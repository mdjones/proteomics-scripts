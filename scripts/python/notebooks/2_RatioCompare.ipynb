{
 "cells": [
  {
   "cell_type": "markdown",
   "metadata": {},
   "source": [
    "Just look to see if the sequences overlap"
   ]
  },
  {
   "cell_type": "code",
   "execution_count": null,
   "metadata": {},
   "outputs": [],
   "source": [
    "## Load any changes to local modules\n",
    "%load_ext autoreload\n",
    "%autoreload 2\n",
    "\n",
    "import os\n",
    "import sys\n",
    "\n",
    "pwd = %pwd\n",
    "project_dir = '{0}/../../../'.format(pwd)\n",
    "module_path = os.path.abspath(os.path.join(project_dir))\n",
    "if module_path not in sys.path:\n",
    "    sys.path.append(module_path)"
   ]
  },
  {
   "cell_type": "code",
   "execution_count": null,
   "metadata": {},
   "outputs": [],
   "source": [
    "import pandas as pd\n",
    "import seaborn as sns\n",
    "import matplotlib\n",
    "import matplotlib.pyplot as plt\n",
    "import re\n",
    "import numpy as np\n",
    "%matplotlib inline\n",
    "from IPython.display import display\n",
    "\n",
    "\n",
    "#from nbcpact import AnalyzeQuantCompare,Peptide,PeptideGroup,UcbreUtils,PeptidesFromPeptideListBuilder\n",
    "from nbcpact.protdisc import PDReader\n",
    "from nbcpact.ucbre import AnalyzeQuantCompare, PeptidesFromPeptideListBuilder"
   ]
  },
  {
   "cell_type": "code",
   "execution_count": null,
   "metadata": {},
   "outputs": [],
   "source": [
    "peptide_list_file = '/home/jonesmic/gBuild/jonesmic_github/proteomics-scripts/datanocommit/peptideList.csv'\n",
    "peptidesFromPeptideListBuilder = PeptidesFromPeptideListBuilder(peptide_list_file)\n",
    "analyzeQuantCompare = AnalyzeQuantCompare(peptide_generator=peptidesFromPeptideListBuilder)\n",
    "groups = analyzeQuantCompare.build_peptide_groups()\n",
    "results = analyzeQuantCompare.build_results_from_peptide_groups(groups=groups)"
   ]
  },
  {
   "cell_type": "code",
   "execution_count": null,
   "metadata": {},
   "outputs": [],
   "source": [
    "def load_ip2_peptide_list(file_path):\n",
    "    \n",
    "    df = pd.read_csv(file_path)\n",
    "    df['ip2_sequence'] = df.sequence\n",
    "\n",
    "    df['sequence'] = df.sequence.str.replace('\\(\\d+\\.\\d+\\)','')\n",
    "\n",
    "    num_records = df.index.size\n",
    "    num_seqs = len(set(df['sequence']))\n",
    "\n",
    "    #ip2_peptide_listDF = ip2_peptide_listDF[~ip2_peptide_listDF['protein'].str.contains('Reverse')]\n",
    "    decoy_df = df[df['protein'].str.contains('Reverse')]\n",
    "    num_decoy_records = decoy_df.index.size\n",
    "    percent_decoy_records = (num_decoy_records/num_records * 100)\n",
    "    num_decoy_seqs = len(set(decoy_df['sequence']))\n",
    "    percent_decoy_seqs = (num_decoy_seqs/num_seqs * 100)\n",
    "\n",
    "    msg = 'Total number of records {}, sequences {}, decoy records {} ({:.0f}%), decoy sequences {}  ({:.0f}%)'.format(\n",
    "                                                                                                                num_records, \n",
    "                                                                                                                num_seqs, \n",
    "                                                                                                                num_decoy_records, \n",
    "                                                                                                                percent_decoy_records, \n",
    "                                                                                                                num_decoy_seqs, \n",
    "                                                                                                                percent_decoy_seqs)\n",
    "    print(msg)\n",
    "\n",
    "    df = df[~df['protein'].str.contains('Reverse')]\n",
    "    df['RatioRank'] = df.AREA_MEDIAN_RATIO_1.rank(ascending=True)\n",
    "\n",
    "    ax = sns.regplot(x=\"RatioRank\", y=\"AREA_MEDIAN_RATIO_1\", data=df)\n",
    "    plt.figure()\n",
    "    \n",
    "    return df\n",
    "    \n",
    "\n",
    "\n"
   ]
  },
  {
   "cell_type": "code",
   "execution_count": null,
   "metadata": {},
   "outputs": [],
   "source": [
    "## Find overlap\n",
    "def do_ratio_compare_overlap(ip2DF=None,  pdDF=None):\n",
    "    pdDF = pdDF[~pdDF.ABUNDANCE_RATIOS.isnull()]\n",
    "    pdDF = pdDF[['Sequence', 'ABUNDANCE_RATIOS']]\n",
    "    ip2DF = ip2DF[['sequence', 'AREA_MEDIAN_RATIO_1']]\n",
    "    \n",
    "    ## Merge on sequence\n",
    "    df = pd.merge(pdDF, ip2DF, left_on='Sequence', right_on='sequence')\n",
    "    ## Do simple plot\n",
    "    sns.regplot('ABUNDANCE_RATIOS','AREA_MEDIAN_RATIO_1', data=df)\n",
    "    \n",
    "    return df\n",
    "    \n",
    "    \n",
    "df = do_ratio_compare_overlap(ip2DF=ip2DF, pdDF=pdDF)\n",
    "df.to_csv('/home/jonesmic/clip/jnk.txt', sep='\\t', index=False)\n",
    "    \n",
    "df.columns"
   ]
  },
  {
   "cell_type": "code",
   "execution_count": null,
   "metadata": {},
   "outputs": [],
   "source": [
    "pd_file_path = '/usca/asperapoc/NB-CPACT/NB-CPACT-NIBR/NIBR_loaded_UCB_EN80/Analysis/PD2.1/KEA_isoTOP_DN_All.pdResult'\n",
    "ip2_file_path = '/home/jonesmic/gBuild/jonesmic_github/proteomics-scripts/datanocommit/peptideList.csv'\n",
    "\n",
    "\n",
    "print('Compare PD on Canonical FASTA vs. IP2')\n",
    "print('{} vs. {}'.format(pd_file_path, ip2_file_path))\n",
    "print('load PD')\n",
    "pdReader = PDReader(pd_result_file=pd_file_path, include_non_quant=False)\n",
    "pdDF = pdReader.get_target_peptides(include_additional_data=True)\n",
    "print('Load IP2')\n",
    "ip2DF = load_ip2_peptide_list(ip2_file_path)\n",
    "\n",
    "\n",
    "#do_sequence_overlap(ip2DF=ip2DF, pdDF=pdDF)   \n"
   ]
  },
  {
   "cell_type": "code",
   "execution_count": null,
   "metadata": {},
   "outputs": [],
   "source": [
    "pdDF.head()"
   ]
  },
  {
   "cell_type": "code",
   "execution_count": null,
   "metadata": {},
   "outputs": [],
   "source": [
    "pd_file_path = '/da/dmp/cb/jonesmic/chemgx/data/isoTopAnalysis/jonesmic/pd/pd2.2/KEA_EN80_NomiraFastaSequest_FullTryptic/KEA_EN80.pdResult'\n",
    "ip2_file_path = '/home/jonesmic/gBuild/jonesmic_github/proteomics-scripts/datanocommit/peptideList.csv'\n",
    "\n",
    "\n",
    "print('Compare PD on Canonical+Alternative FASTA vs. IP2')\n",
    "print('{} vs. {}'.format(pd_file_path, ip2_file_path))\n",
    "print('load PD')\n",
    "pdReader = PDReader(pd_result_file=pd_file_path, include_non_quant=False)\n",
    "pdDF = pdReader.get_target_peptides(include_additional_data=True)\n",
    "print('Load IP2')\n",
    "ip2DF = load_ip2_peptide_list(ip2_file_path)\n",
    "\n",
    "\n",
    "#do_sequence_overlap(ip2DF=ip2DF, pdDF=pdDF)   "
   ]
  },
  {
   "cell_type": "code",
   "execution_count": null,
   "metadata": {},
   "outputs": [],
   "source": [
    "\n"
   ]
  },
  {
   "cell_type": "code",
   "execution_count": null,
   "metadata": {
    "collapsed": true
   },
   "outputs": [],
   "source": []
  }
 ],
 "metadata": {
  "kernelspec": {
   "display_name": "Python 3",
   "language": "python",
   "name": "python3"
  },
  "language_info": {
   "codemirror_mode": {
    "name": "ipython",
    "version": 3
   },
   "file_extension": ".py",
   "mimetype": "text/x-python",
   "name": "python",
   "nbconvert_exporter": "python",
   "pygments_lexer": "ipython3",
   "version": "3.6.2"
  }
 },
 "nbformat": 4,
 "nbformat_minor": 2
}
