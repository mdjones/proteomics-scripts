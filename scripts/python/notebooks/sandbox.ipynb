{
 "cells": [
  {
   "cell_type": "code",
   "execution_count": null,
   "metadata": {},
   "outputs": [],
   "source": [
    "## Load any changes to local modules\n",
    "%load_ext autoreload\n",
    "%autoreload 2\n",
    "\n",
    "import os\n",
    "import sys\n",
    "\n",
    "pwd = %pwd\n",
    "project_dir = '{0}/../../../'.format(pwd)\n",
    "module_path = os.path.abspath(os.path.join(project_dir))\n",
    "if module_path not in sys.path:\n",
    "    sys.path.append(module_path)"
   ]
  },
  {
   "cell_type": "code",
   "execution_count": null,
   "metadata": {},
   "outputs": [],
   "source": [
    "import pandas as pd\n",
    "import seaborn as sns\n",
    "import matplotlib\n",
    "import matplotlib.pyplot as plt\n",
    "import re\n",
    "import numpy as np\n",
    "%matplotlib inline\n",
    "from IPython.display import display\n",
    "\n",
    "import sqlalchemy\n",
    "import sqlite3\n",
    "\n",
    "from nbcpact import AnalyzeQuantCompare,Peptide,PeptideGroup,UcbreUtils,PeptidesFromPeptideListBuilder\n"
   ]
  },
  {
   "cell_type": "code",
   "execution_count": null,
   "metadata": {},
   "outputs": [],
   "source": [
    "file_path = \"../../../test/data/peptideList.csv\"\n",
    "peptide_generator = PeptidesFromPeptideListBuilder(peptide_list_file=file_path)\n",
    "peptides = peptide_generator.generate_peptides()\n",
    "pep = peptides[0]\n",
    "\n",
    "print(\"ip2_peptide={0}, sequence={1}, mod_locs={2}, ptm_indices={3}, area_ratio={4}\".format(pep.ip2_peptide, pep.sequence, pep.mod_locs, pep.ptm_indices, pep.area_ratio))\n",
    "print(\"area_ratios={0}, annotation={1}, uniprot_ids={2}, run_counter={3}\".format(pep.area_ratios, pep.annotation, pep.uniprot_ids, pep.run_counter))\n",
    "print(\"decoy={0},unique1={1}\".format(pep.decoy, pep.unique1))\n",
    "\n",
    "\n",
    "\"\"\"\n",
    "ip2_peptide=None, sequence=None, mod_locs=None, ptm_indices=None, area_ratio=None,\n",
    "                 area_ratios=None, annotation=None, uniprot_ids=None, run_counter=None, decoy=None,\n",
    "                 unique1=None\n",
    "\"\"\""
   ]
  },
  {
   "cell_type": "code",
   "execution_count": null,
   "metadata": {
    "collapsed": true
   },
   "outputs": [],
   "source": [
    "file_path = \"../../../../../../projects/nb-cpact/KEA_EN80/Analysis/PD2.1/KEA_isoTOP_DN_High_Med_All.xlsx\"\n",
    "pepgroup_df = pd.read_excel(file_path)"
   ]
  },
  {
   "cell_type": "code",
   "execution_count": null,
   "metadata": {},
   "outputs": [],
   "source": [
    "file_path = \"../../../../../../projects/nb-cpact/KEA_EN80/Analysis/PD2.1/KEA_isoTOP_DN_All.pdResult\"\n",
    "pd_connection = sqlite3.connect(file_path)\n",
    "\n",
    "sqlStr = \"\"\"\n",
    "SELECT\n",
    "Sequence,\n",
    "ModifiedSequence,\n",
    "Modifications,\n",
    "ParentProteinAccessions,\n",
    "ParentProteinDescriptions,\n",
    "SpectrumFileName,\n",
    "QuanChannel,\n",
    "QuanValueIsoTOPLight,\n",
    "QuanValueIsoTOPHeavy\n",
    "FROM TargetPsms\n",
    "WHERE (QuanChannelID = 1 OR QuanChannelID = 2)\n",
    "\"\"\"\n",
    "targetPsmsDF = pd.read_sql(sqlStr, pd_connection)\n",
    "\n",
    "exp_pattern = r'(KEA_EN80\\d)_\\d.raw'\n",
    "targetPsmsDF['EXPERIMENT'] = targetPsmsDF.SpectrumFileName.str.extract(exp_pattern)\n",
    "\n",
    "cys_mod_pattern = re.compile(r'C(\\d+)\\(isoTO\\w*\\)')\n",
    "def __process_modifications(modifications):\n",
    "    return re.findall(cys_mod_pattern, modifications)\n",
    "\n",
    "targetPsmsDF['mod_locs'] = targetPsmsDF.Modifications.apply(__process_modifications)\n"
   ]
  },
  {
   "cell_type": "code",
   "execution_count": null,
   "metadata": {},
   "outputs": [],
   "source": [
    "iso_top_mod_pattern = re.compile(r'.*\\dxisoTOP TEV [heavyLight]+ \\[(.+)\\].*')\n",
    "cys_mod_pattern = re.compile(r'C(\\d+)')\n",
    "\n",
    "def __process_modifications(modifications):\n",
    "    match = iso_top_mod_pattern.match(modifications)\n",
    "    if match:\n",
    "        mod_locs = list(map(int, re.findall(cys_mod_pattern, match.group(1))))\n",
    "        return mod_locs\n",
    "    \n",
    "def __create_run_counter(row, targetPsmsDF=None, experiments=['KEA_EN801', 'KEA_EN802', 'KEA_EN803']):\n",
    "    sequence = row['sequence']\n",
    "    mod_locs = row['mod_locs']\n",
    "    \n",
    "    print(\"File:\")\n",
    "    print(sequence)\n",
    "    print(mod_locs)\n",
    "\n",
    "    psms = targetPsmsDF[(targetPsmsDF.Sequence == sequence) & (targetPsmsDF.mod_locs.values == mod_locs)]\n",
    "    psm_exps = psms['EXPERIMENT']\n",
    "    run_counter = np.isin(experiments, psm_exps)\n",
    "    \n",
    "    print(\"psms\")\n",
    "    print(psms.Sequence)\n",
    "    print(psms.mod_locs)\n",
    "    \n",
    "    return tuple(run_counter)\n",
    "    \n",
    "    \n",
    "data = {}\n",
    "\n",
    "## Clean up dataframe\n",
    "pepgroup_df = pepgroup_df[~pepgroup_df['Abundance Ratio (log2): (IsoTOP Light) / (IsoTOP Heavy)'].isnull()]\n",
    "\n",
    "## Transfer some values directly\n",
    "data['uniprot_ids'] = pepgroup_df['Master Protein Accessions']\n",
    "data['area_ratio'] = pepgroup_df['Abundance Ratio (log2): (IsoTOP Light) / (IsoTOP Heavy)']\n",
    "data['sequence'] = pepgroup_df['Sequence']\n",
    "\n",
    "## Process Mods\n",
    "data['mod_locs'] = pepgroup_df.Modifications.apply(__process_modifications)\n",
    "\n",
    "\n",
    "# Do later\n",
    "## Global PTM\n",
    "data['ptm_indices'] = None\n",
    "## Detailed protein annot\n",
    "data['annotation'] = None\n",
    "## The IP2 semicolon array that RunCounter is made from\n",
    "data['unique1'] = None\n",
    "\n",
    "\n",
    "df = pd.DataFrame(data=data)\n",
    "\n",
    "## Create run_counter array\n",
    "#data['run_counter'] = pepgroup_df.apply(__create_run_counter, axis=1, targetPsmsDF=targetPsmsDF)\n",
    "display(df.head(1).apply(__create_run_counter, axis=1, targetPsmsDF=targetPsmsDF))\n",
    "\n",
    "\n",
    "\n",
    "\n"
   ]
  },
  {
   "cell_type": "code",
   "execution_count": null,
   "metadata": {},
   "outputs": [],
   "source": []
  },
  {
   "cell_type": "code",
   "execution_count": null,
   "metadata": {},
   "outputs": [],
   "source": [
    "np.array_equal([3], [3])"
   ]
  },
  {
   "cell_type": "code",
   "execution_count": null,
   "metadata": {},
   "outputs": [],
   "source": [
    "#targetPsmsDF.mod_locs\n",
    "\n",
    "def array_equal(mod_locs, a2):\n",
    "    return np.array_equal(mod_locs, a2)\n",
    "    \n",
    "display(targetPsmsDF[targetPsmsDF.mod_locs.apply(array_equal, a2=[3])])\n",
    "\n",
    "display(targetPsmsDF.index.size)\n",
    "\n",
    "len(targetPsmsDF.mod_locs.apply(array_equal, a2=[3]))\n"
   ]
  },
  {
   "cell_type": "code",
   "execution_count": null,
   "metadata": {
    "collapsed": true
   },
   "outputs": [],
   "source": []
  }
 ],
 "metadata": {
  "kernelspec": {
   "display_name": "Python 3",
   "language": "python",
   "name": "python3"
  },
  "language_info": {
   "codemirror_mode": {
    "name": "ipython",
    "version": 3
   },
   "file_extension": ".py",
   "mimetype": "text/x-python",
   "name": "python",
   "nbconvert_exporter": "python",
   "pygments_lexer": "ipython3",
   "version": "3.6.3"
  }
 },
 "nbformat": 4,
 "nbformat_minor": 2
}
