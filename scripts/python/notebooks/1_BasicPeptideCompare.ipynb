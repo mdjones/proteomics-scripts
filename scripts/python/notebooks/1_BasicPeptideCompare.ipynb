{
 "cells": [
  {
   "cell_type": "markdown",
   "metadata": {},
   "source": [
    "Just look to see if the sequences overlap"
   ]
  },
  {
   "cell_type": "code",
   "execution_count": 1,
   "metadata": {
    "collapsed": false
   },
   "outputs": [],
   "source": [
    "## Load any changes to local modules\n",
    "%load_ext autoreload\n",
    "%autoreload 2\n",
    "\n",
    "import os\n",
    "import sys\n",
    "\n",
    "pwd = %pwd\n",
    "project_dir = '{0}/../../../'.format(pwd)\n",
    "module_path = os.path.abspath(os.path.join(project_dir))\n",
    "if module_path not in sys.path:\n",
    "    sys.path.append(module_path)"
   ]
  },
  {
   "cell_type": "code",
   "execution_count": 2,
   "metadata": {
    "collapsed": false
   },
   "outputs": [
    {
     "name": "stderr",
     "output_type": "stream",
     "text": [
      "/home/jonesmic/anaconda3/lib/python3.6/site-packages/matplotlib/font_manager.py:280: UserWarning: Matplotlib is building the font cache using fc-list. This may take a moment.\n",
      "  'Matplotlib is building the font cache using fc-list. '\n"
     ]
    },
    {
     "ename": "ModuleNotFoundError",
     "evalue": "No module named 'dpro'",
     "output_type": "error",
     "traceback": [
      "\u001b[0;31m---------------------------------------------------------------------------\u001b[0m",
      "\u001b[0;31mModuleNotFoundError\u001b[0m                       Traceback (most recent call last)",
      "\u001b[0;32m<ipython-input-2-df6478d8d6c2>\u001b[0m in \u001b[0;36m<module>\u001b[0;34m()\u001b[0m\n\u001b[1;32m     10\u001b[0m \u001b[0;34m\u001b[0m\u001b[0m\n\u001b[1;32m     11\u001b[0m \u001b[0;31m#from nbcpact import AnalyzeQuantCompare,Peptide,PeptideGroup,UcbreUtils,PeptidesFromPeptideListBuilder\u001b[0m\u001b[0;34m\u001b[0m\u001b[0;34m\u001b[0m\u001b[0m\n\u001b[0;32m---> 12\u001b[0;31m \u001b[0;32mfrom\u001b[0m \u001b[0mdpro\u001b[0m\u001b[0;34m.\u001b[0m\u001b[0mprotdisc\u001b[0m \u001b[0;32mimport\u001b[0m \u001b[0mPDReader\u001b[0m\u001b[0;34m\u001b[0m\u001b[0m\n\u001b[0m",
      "\u001b[0;31mModuleNotFoundError\u001b[0m: No module named 'dpro'"
     ]
    }
   ],
   "source": [
    "import pandas as pd\n",
    "import seaborn as sns\n",
    "import matplotlib\n",
    "import matplotlib.pyplot as plt\n",
    "import re\n",
    "import numpy as np\n",
    "%matplotlib inline\n",
    "from IPython.display import display\n",
    "\n",
    "\n",
    "#from nbcpact import AnalyzeQuantCompare,Peptide,PeptideGroup,UcbreUtils,PeptidesFromPeptideListBuilder\n",
    "from dpro.protdisc import PDReader"
   ]
  },
  {
   "cell_type": "code",
   "execution_count": 38,
   "metadata": {
    "collapsed": false
   },
   "outputs": [],
   "source": [
    "def load_ip2_peptide_list(file_path):\n",
    "    \n",
    "    df = pd.read_csv(file_path)\n",
    "    df['ip2_sequence'] = df.sequence\n",
    "\n",
    "    df['sequence'] = df.sequence.str.replace('\\(\\d+\\.\\d+\\)','')\n",
    "\n",
    "    num_records = df.index.size\n",
    "    num_seqs = len(set(df['sequence']))\n",
    "\n",
    "    decoy_df = df[df['protein'].str.contains('Reverse')]\n",
    "    num_decoy_records = decoy_df.index.size\n",
    "    percent_decoy_records = (num_decoy_records/num_records * 100)\n",
    "    num_decoy_seqs = len(set(decoy_df['sequence']))\n",
    "    percent_decoy_seqs = (num_decoy_seqs/num_seqs * 100)\n",
    "\n",
    "    \n",
    "\n",
    "    df = df[~df['protein'].str.contains('Reverse')]\n",
    "    num_forward_recs = df.index.size\n",
    "    num_forward_seqs = len(set(df['sequence']))\n",
    "    \n",
    "\n",
    "    msg = 'Records: Tot {}, Forward {} , Decoy {} ({:.0f}%)'.format(num_records, \n",
    "                                                               num_forward_recs, \n",
    "                                                               num_decoy_records, \n",
    "                                                               percent_decoy_records)\n",
    "    print(msg)\n",
    "    \n",
    "    msg = 'Sequences: Tot {}, Forward {}, Decoy {} ({:.0f}%)'.format(num_seqs, \n",
    "                                                                      num_forward_seqs, \n",
    "                                                                      num_decoy_seqs, \n",
    "                                                                      percent_decoy_seqs)\n",
    "    print(msg)\n",
    "    \n",
    "    \n",
    "    df['RatioRank'] = df.AREA_MEDIAN_RATIO_1.rank(ascending=True)\n",
    "\n",
    "    ax = sns.regplot(x=\"RatioRank\", y=\"AREA_MEDIAN_RATIO_1\", data=df)\n",
    "    plt.figure()\n",
    "    \n",
    "    intersection = set(df.sequence) & set(decoy_df.sequence)\n",
    "    print('Peptide sequences seen in both the decoy and forward sets {}'.format(intersection))\n",
    "    \n",
    "    return df\n",
    "    \n",
    "\n",
    "\n"
   ]
  },
  {
   "cell_type": "code",
   "execution_count": 39,
   "metadata": {
    "collapsed": false
   },
   "outputs": [],
   "source": [
    "## Find overlap\n",
    "def do_sequence_overlap(ip2DF=None,  pdDF=None):\n",
    "    pdDF['in_ip2'] = pdDF.Sequence.isin(ip2DF['sequence'])\n",
    "    ip2DF['in_pd'] = ip2DF.sequence.isin(pdDF.Sequence)\n",
    "    \n",
    "    ip2_peps = set(ip2DF['sequence'])\n",
    "    pd_peps = set(pdDF['Sequence'])\n",
    "    pd_peps_with_ratios = set(pdDF[~pdDF.ABUNDANCE_RATIOS.isnull()].Sequence)\n",
    "\n",
    "    intersection = ip2_peps & pd_peps\n",
    "    percent_ip2_covered = len(intersection)/len(ip2_peps)*100\n",
    "    msg = 'Num IP2 Peps {}, num PD Peps {}, num common peps {}, percent IP2 Covered in PD {:.0f}%'.format(\n",
    "                                                                                     len(ip2_peps), \n",
    "                                                                                     len(pd_peps), \n",
    "                                                                                     len(intersection),\n",
    "                                                                                     percent_ip2_covered)\n",
    "    print(msg)\n",
    "    \n",
    "    intersection = ip2_peps & pd_peps_with_ratios\n",
    "    percent_ip2_covered = len(intersection)/len(ip2_peps)*100\n",
    "    msg = 'Num IP2 Peps {}, num PD Peps with ratios {}, num common peps {}, percent IP2 Covered in PD {:.0f}%'.format(\n",
    "                                                                                     len(ip2_peps), \n",
    "                                                                                     len(pd_peps_with_ratios), \n",
    "                                                                                     len(intersection),\n",
    "                                                                                     percent_ip2_covered\n",
    "                                                                                     )\n",
    "    print(msg)\n",
    " "
   ]
  },
  {
   "cell_type": "code",
   "execution_count": 40,
   "metadata": {
    "collapsed": false
   },
   "outputs": [
    {
     "name": "stdout",
     "output_type": "stream",
     "text": [
      "Compare PD on Canonical FASTA vs. IP2\n",
      "/usca/asperapoc/NB-CPACT/NB-CPACT-NIBR/NIBR_loaded_UCB_EN80/Analysis/PD2.1/KEA_isoTOP_DN_All.pdResult vs. /home/jonesmic/gBuild/jonesmic_github/proteomics-scripts/datanocommit/peptideList.csv\n",
      "load PD\n",
      "Load IP2\n",
      "Records: Tot 4353, Forward 3838 , Decoy 515 (12%)\n",
      "Sequences: Tot 2539, Forward 2046, Decoy 494 (19%)\n",
      "Peptide sequences seen in both the decoy and forward sets {'VLILDEATSALDVQCEQALQDWNSR'}\n",
      "Num IP2 Peps 2046, num PD Peps 240261, num common peps 1288, percent IP2 Covered in PD 63%\n",
      "Num IP2 Peps 2046, num PD Peps with ratios 3207, num common peps 877, percent IP2 Covered in PD 43%\n"
     ]
    },
    {
     "data": {
      "image/png": "[encoded data removed]",
      "text/plain": [
       "<matplotlib.figure.Figure at 0x7feeed4ef1d0>"
      ]
     },
     "metadata": {},
     "output_type": "display_data"
    },
    {
     "data": {
      "text/plain": [
       "<matplotlib.figure.Figure at 0x7fef624c91d0>"
      ]
     },
     "metadata": {},
     "output_type": "display_data"
    }
   ],
   "source": [
    "pd_file_path = '/usca/asperapoc/NB-CPACT/NB-CPACT-NIBR/NIBR_loaded_UCB_EN80/Analysis/PD2.1/KEA_isoTOP_DN_All.pdResult'\n",
    "ip2_file_path = '/home/jonesmic/gBuild/jonesmic_github/proteomics-scripts/datanocommit/peptideList.csv'\n",
    "\n",
    "print('Compare PD on Canonical FASTA vs. IP2')\n",
    "print('{} vs. {}'.format(pd_file_path, ip2_file_path))\n",
    "print('load PD')\n",
    "pdReader = PDReader(pd_result_file=pd_file_path, include_non_quant=True)\n",
    "pdDF = pdReader.get_target_peptides(include_additional_data=True)\n",
    "print('Load IP2')\n",
    "ip2DF = load_ip2_peptide_list(ip2_file_path)\n",
    "\n",
    "\n",
    "do_sequence_overlap(ip2DF=ip2DF, pdDF=pdDF)   \n"
   ]
  },
  {
   "cell_type": "code",
   "execution_count": 41,
   "metadata": {
    "collapsed": false
   },
   "outputs": [
    {
     "data": {
      "text/plain": [
       "282529"
      ]
     },
     "execution_count": 41,
     "metadata": {},
     "output_type": "execute_result"
    }
   ],
   "source": [
    "pdDF.index.size"
   ]
  },
  {
   "cell_type": "code",
   "execution_count": 42,
   "metadata": {
    "collapsed": false
   },
   "outputs": [
    {
     "name": "stdout",
     "output_type": "stream",
     "text": [
      "Compare PD on Canonical+Alternative FASTA vs. IP2\n",
      "/da/dmp/cb/jonesmic/chemgx/data/isoTopAnalysis/jonesmic/pd/pd2.2/KEA_EN80_NomiraFastaSequest_FullTryptic/KEA_EN80.pdResult vs. /home/jonesmic/gBuild/jonesmic_github/proteomics-scripts/datanocommit/peptideList.csv\n",
      "load PD\n",
      "Load IP2\n",
      "Records: Tot 4353, Forward 3838 , Decoy 515 (12%)\n",
      "Sequences: Tot 2539, Forward 2046, Decoy 494 (19%)\n",
      "Peptide sequences seen in both the decoy and forward sets {'VLILDEATSALDVQCEQALQDWNSR'}\n",
      "Num IP2 Peps 2046, num PD Peps 398033, num common peps 1527, percent IP2 Covered in PD 75%\n",
      "Num IP2 Peps 2046, num PD Peps with ratios 2974, num common peps 930, percent IP2 Covered in PD 45%\n"
     ]
    },
    {
     "data": {
      "image/png": "[encoded data removed]",
      "text/plain": [
       "<matplotlib.figure.Figure at 0x7fef88162d30>"
      ]
     },
     "metadata": {},
     "output_type": "display_data"
    },
    {
     "data": {
      "text/plain": [
       "<matplotlib.figure.Figure at 0x7fef3a87c828>"
      ]
     },
     "metadata": {},
     "output_type": "display_data"
    }
   ],
   "source": [
    "pd_file_path = '/da/dmp/cb/jonesmic/chemgx/data/isoTopAnalysis/jonesmic/pd/pd2.2/KEA_EN80_NomiraFastaSequest_FullTryptic/KEA_EN80.pdResult'\n",
    "ip2_file_path = '/home/jonesmic/gBuild/jonesmic_github/proteomics-scripts/datanocommit/peptideList.csv'\n",
    "\n",
    "\n",
    "print('Compare PD on Canonical+Alternative FASTA vs. IP2')\n",
    "print('{} vs. {}'.format(pd_file_path, ip2_file_path))\n",
    "print('load PD')\n",
    "pdReader = PDReader(pd_result_file=pd_file_path, include_non_quant=True)\n",
    "pdDF = pdReader.get_target_peptides(include_additional_data=True)\n",
    "print('Load IP2')\n",
    "ip2DF = load_ip2_peptide_list(ip2_file_path)\n",
    "\n",
    "\n",
    "do_sequence_overlap(ip2DF=ip2DF, pdDF=pdDF)   "
   ]
  },
  {
   "cell_type": "code",
   "execution_count": 44,
   "metadata": {
    "collapsed": false
   },
   "outputs": [],
   "source": [
    "mergeDF = pd.merge(pdDF, ip2DF, left_on='Sequence', right_on='sequence')"
   ]
  },
  {
   "cell_type": "code",
   "execution_count": 58,
   "metadata": {
    "collapsed": false
   },
   "outputs": [
    {
     "name": "stdout",
     "output_type": "stream",
     "text": [
      "Index(['PeptideGroupID', 'Checked', 'Confidence', 'ExcludedBy', 'Sequence',\n",
      "       'Modifications_all_positions', 'Modifications_best_positions',\n",
      "       'QvalityPEP', 'Qvalityqvalue', 'ParentProteinGroupCount',\n",
      "       'ParentProteinCount', 'PsmCount', 'MasterProteinAccessions',\n",
      "       'MissedCleavages', 'TheoreticalMass', 'QuanInfo', 'FILES',\n",
      "       'ABUNDANCE_RATIOS', 'ABUNDANCE_LOG2_RATIO', 'ABUNDANCES',\n",
      "       'ISOTOP_LIGHT_1', 'ISOTOP_HEAVY_2', 'QUANTILE_NORM_ABUNDANCE_RATIO',\n",
      "       'QUANTILE_NORM_ABUNDANCE_LOG2_RATIO', 'MOD_LOCS', 'GLOBAL_MOD_LOCS',\n",
      "       'ISOTOP_MOD_LOCS', 'GLOBAL_ISOTOP_LOCS', 'protein_isotop_locs',\n",
      "       'in_ip2', 'IN_IP2', 'NEG_LOG10_Q'],\n",
      "      dtype='object')\n"
     ]
    },
    {
     "data": {
      "text/plain": [
       "IN_IP2       \n",
       "False   count    520165.000000\n",
       "        mean          0.807629\n",
       "        std           0.231221\n",
       "        min           0.000000\n",
       "        25%           0.804735\n",
       "        50%           0.901296\n",
       "        75%           0.936998\n",
       "        max           0.952610\n",
       "True    count      3876.000000\n",
       "        mean          0.257483\n",
       "        std           0.389626\n",
       "        min           0.000000\n",
       "        25%           0.000000\n",
       "        50%           0.000000\n",
       "        75%           0.715931\n",
       "        max           0.952570\n",
       "Name: Qvalityqvalue, dtype: float64"
      ]
     },
     "execution_count": 58,
     "metadata": {},
     "output_type": "execute_result"
    },
    {
     "data": {
      "image/png": "[encoded data removed]",
      "text/plain": [
       "<matplotlib.figure.Figure at 0x7fef61da7470>"
      ]
     },
     "metadata": {},
     "output_type": "display_data"
    }
   ],
   "source": [
    "pdDF['IN_IP2'] = pdDF.Sequence.isin(ip2DF.sequence)\n",
    "pdDF['NEG_LOG10_Q'] = pdDF.Qvalityqvalue.apply(lambda x : -np.log10(x+0.0001))\n",
    "print(pdDF.columns)\n",
    "sns.violinplot(y='NEG_LOG10_Q', x='IN_IP2', data=pdDF)\n",
    "\n",
    "pdDF.groupby('IN_IP2')['Qvalityqvalue'].describe()\n"
   ]
  }
 ],
 "metadata": {
  "kernelspec": {
   "display_name": "Python 3",
   "language": "python",
   "name": "python3"
  },
  "language_info": {
   "codemirror_mode": {
    "name": "ipython",
    "version": 3
   },
   "file_extension": ".py",
   "mimetype": "text/x-python",
   "name": "python",
   "nbconvert_exporter": "python",
   "pygments_lexer": "ipython3",
   "version": "3.6.0"
  }
 },
 "nbformat": 4,
 "nbformat_minor": 2
}
