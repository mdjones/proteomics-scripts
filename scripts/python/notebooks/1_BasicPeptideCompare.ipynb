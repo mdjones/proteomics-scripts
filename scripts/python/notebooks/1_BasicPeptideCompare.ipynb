{
 "cells": [
  {
   "cell_type": "markdown",
   "metadata": {},
   "source": [
    "Just look to see if the sequences overlap"
   ]
  },
  {
   "cell_type": "code",
   "execution_count": null,
   "metadata": {
    "collapsed": false
   },
   "outputs": [],
   "source": [
    "## Load any changes to local modules\n",
    "%load_ext autoreload\n",
    "%autoreload 2\n",
    "\n",
    "import os\n",
    "import sys\n",
    "\n",
    "pwd = %pwd\n",
    "project_dir = '{0}/../../../'.format(pwd)\n",
    "module_path = os.path.abspath(os.path.join(project_dir))\n",
    "if module_path not in sys.path:\n",
    "    sys.path.append(module_path)"
   ]
  },
  {
   "cell_type": "code",
   "execution_count": null,
   "metadata": {
    "collapsed": false
   },
   "outputs": [],
   "source": [
    "import pandas as pd\n",
    "import seaborn as sns\n",
    "import matplotlib\n",
    "import matplotlib.pyplot as plt\n",
    "import re\n",
    "import numpy as np\n",
    "%matplotlib inline\n",
    "from IPython.display import display\n",
    "\n",
    "\n",
    "#from nbcpact import AnalyzeQuantCompare,Peptide,PeptideGroup,UcbreUtils,PeptidesFromPeptideListBuilder\n",
    "from nbcpact.protdisc import PDReader"
   ]
  },
  {
   "cell_type": "code",
   "execution_count": null,
   "metadata": {
    "collapsed": false
   },
   "outputs": [],
   "source": [
    "def load_ip2_peptide_list(file_path):\n",
    "    \n",
    "    df = pd.read_csv(file_path)\n",
    "    df['ip2_sequence'] = df.sequence\n",
    "\n",
    "    df['Sequence'] = df.sequence.str.replace('\\(\\d+\\.\\d+\\)','')\n",
    "\n",
    "    num_records = df.index.size\n",
    "    num_seqs = len(set(df['Sequence']))\n",
    "\n",
    "    #ip2_peptide_listDF = ip2_peptide_listDF[~ip2_peptide_listDF['protein'].str.contains('Reverse')]\n",
    "    decoy_df = df[ip2_peptide_listDF['protein'].str.contains('Reverse')]\n",
    "    num_decoy_records = decoy_df.index.size\n",
    "    percent_decoy_records = (num_decoy_records/num_records * 100)\n",
    "    num_decoy_seqs = len(set(decoy_df['Sequence']))\n",
    "    percent_decoy_seqs = (num_decoy_seqs/num_seqs * 100)\n",
    "\n",
    "    msg = 'Total number of records {}, sequences {}, decoy records {} ({:.0f}%), decoy sequences {}  ({:.0f}%)'.format(\n",
    "                                                                                                                num_records, \n",
    "                                                                                                                num_seqs, \n",
    "                                                                                                                num_decoy_records, \n",
    "                                                                                                                percent_decoy_records, \n",
    "                                                                                                                num_decoy_seqs, \n",
    "                                                                                                                percent_decoy_seqs)\n",
    "    print(msg)\n",
    "\n",
    "    df = df[~df['protein'].str.contains('Reverse')]\n",
    "    df['RatioRank'] = df.AREA_MEDIAN_RATIO_1.rank(ascending=True)\n",
    "\n",
    "    ax = sns.regplot(x=\"RatioRank\", y=\"AREA_MEDIAN_RATIO_1\", data=df)\n",
    "    plt.figure()\n",
    "    \n",
    "\n",
    "\n"
   ]
  },
  {
   "cell_type": "code",
   "execution_count": null,
   "metadata": {
    "collapsed": false
   },
   "outputs": [],
   "source": [
    "## Find overlap\n",
    "def do_sequence_overlap(ip2DF=None,  pdDF=None):\n",
    "    pdDF['in_ip2'] = pdDF.Sequence.isin(ip2DF['Sequence'])\n",
    "    ip2DF['in_pd'] = ip2DF.sequence.isin(pdDF.Sequence)\n",
    "    \n",
    "    ip2_peps = set(ip2DF.sequence)\n",
    "    pd_peps = set(pdDF.Sequence)\n",
    "    pd_peps_with_ratios = set(pdDF[~pdDF.ABUNDANCE_RATIOS.isnull()].Sequence)\n",
    "\n",
    "    intersection = ip2_peps & pd_peps\n",
    "    msg = 'Num IP2 Peps {}, num PD Peps {}, num common peps {}, ratio IP2 {:.2f}'.format(\n",
    "                                                                                     len(ip2_peps), \n",
    "                                                                                     len(pd_peps), \n",
    "                                                                                     len(intersection),\n",
    "                                                                                     len(intersection)/len(ip2_peps))\n",
    "    print(msg)\n",
    "    \n",
    "    intersection = ip2_peps & pd_peps_with_ratios\n",
    "    msg = 'Num IP2 Peps {}, num PD Peps with ratios {}, num common peps {}, ratio IP2 {:.2f}'.format(\n",
    "                                                                                     len(ip2_peps), \n",
    "                                                                                     len(pd_peps_with_ratios), \n",
    "                                                                                     len(intersection),\n",
    "                                                                                     len(intersection)/len(ip2_peps))\n",
    "    print(msg)\n",
    " "
   ]
  },
  {
   "cell_type": "code",
   "execution_count": null,
   "metadata": {
    "collapsed": false
   },
   "outputs": [],
   "source": [
    "pd_file_path = '/usca/asperapoc/NB-CPACT/NB-CPACT-NIBR/NIBR_loaded_UCB_EN80/Analysis/PD2.1/KEA_isoTOP_DN_All.pdResult'\n",
    "ip2_file_path = '/home/jonesmic/gBuild/jonesmic_github/proteomics-scripts/datanocommit/peptideList.csv'\n",
    "\n",
    "\n",
    "print('Compare PD on Canonical FASTA vs. IP2')\n",
    "print('{} vs. {}'.format(pd_file_path, ip2_file_path))\n",
    "print('load PD')\n",
    "pdReader = PDReader(pd_result_file=file_path, include_non_quant=True)\n",
    "pdDF = pdReader.get_target_peptides(include_additional_data=True)\n",
    "print('Load IP2')\n",
    "ip2DF = load_ip2_peptide_list(ip2_file_path)\n",
    "\n",
    "\n",
    "do_sequence_overlap(ip2DF=ip2_peptide_listDF, pdDF=pdDF)   \n"
   ]
  },
  {
   "cell_type": "code",
   "execution_count": null,
   "metadata": {
    "collapsed": false
   },
   "outputs": [],
   "source": [
    "pd_file_path = '/da/dmp/cb/jonesmic/chemgx/data/isoTopAnalysis/jonesmic/pd/pd2.2/KEA_EN80_NomiraFastaSequest_FullTryptic/'\n",
    "ip2_file_path = '/home/jonesmic/gBuild/jonesmic_github/proteomics-scripts/datanocommit/peptideList.csv'\n",
    "\n",
    "\n",
    "print('Compare PD on Canonical+Alternative FASTA vs. IP2')\n",
    "print('{} vs. {}'.format(pd_file_path, ip2_file_path))\n",
    "print('load PD')\n",
    "pdReader = PDReader(pd_result_file=file_path, include_non_quant=True)\n",
    "pdDF = pdReader.get_target_peptides(include_additional_data=True)\n",
    "print('Load IP2')\n",
    "ip2DF = load_ip2_peptide_list(ip2_file_path)\n",
    "\n",
    "\n",
    "do_sequence_overlap(ip2DF=ip2_peptide_listDF, pdDF=pdDF)   "
   ]
  },
  {
   "cell_type": "code",
   "execution_count": null,
   "metadata": {
    "collapsed": false
   },
   "outputs": [],
   "source": []
  },
  {
   "cell_type": "code",
   "execution_count": null,
   "metadata": {
    "collapsed": false
   },
   "outputs": [],
   "source": []
  },
  {
   "cell_type": "code",
   "execution_count": null,
   "metadata": {
    "collapsed": false
   },
   "outputs": [],
   "source": []
  },
  {
   "cell_type": "code",
   "execution_count": null,
   "metadata": {
    "collapsed": false
   },
   "outputs": [],
   "source": [
    "\n"
   ]
  },
  {
   "cell_type": "code",
   "execution_count": null,
   "metadata": {
    "collapsed": true
   },
   "outputs": [],
   "source": []
  }
 ],
 "metadata": {
  "kernelspec": {
   "display_name": "Python 3",
   "language": "python",
   "name": "python3"
  },
  "language_info": {
   "codemirror_mode": {
    "name": "ipython",
    "version": 3
   },
   "file_extension": ".py",
   "mimetype": "text/x-python",
   "name": "python",
   "nbconvert_exporter": "python",
   "pygments_lexer": "ipython3",
   "version": "3.6.0"
  }
 },
 "nbformat": 4,
 "nbformat_minor": 2
}
