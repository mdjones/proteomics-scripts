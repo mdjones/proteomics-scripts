{
 "cells": [
  {
   "cell_type": "code",
   "execution_count": null,
   "metadata": {
    "collapsed": false
   },
   "outputs": [],
   "source": [
    "## Load any changes to local modules\n",
    "%load_ext autoreload\n",
    "%autoreload 2\n",
    "\n",
    "import os\n",
    "import sys\n",
    "\n",
    "pwd = %pwd\n",
    "project_dir = '{0}/../../../'.format(pwd)\n",
    "module_path = os.path.abspath(os.path.join(project_dir))\n",
    "if module_path not in sys.path:\n",
    "    sys.path.append(module_path)"
   ]
  },
  {
   "cell_type": "code",
   "execution_count": null,
   "metadata": {
    "collapsed": false
   },
   "outputs": [],
   "source": [
    "import pandas as pd\n",
    "import seaborn as sns\n",
    "import matplotlib\n",
    "import matplotlib.pyplot as plt\n",
    "import re\n",
    "import numpy as np\n",
    "%matplotlib inline\n",
    "from IPython.display import display\n",
    "\n",
    "import sqlalchemy\n",
    "import sqlite3\n",
    "import struct\n",
    "\n",
    "from nbcpact import AnalyzeQuantCompare,Peptide,PeptideGroup,UcbreUtils,PeptidesFromPeptideListBuilder\n",
    "from nbcpact.protdisc import PDReader"
   ]
  },
  {
   "cell_type": "code",
   "execution_count": null,
   "metadata": {
    "collapsed": false
   },
   "outputs": [],
   "source": [
    "file_path = '/usca/asperapoc/NB-CPACT/NB-CPACT-NIBR/NIBR_loaded_UCB_EN80/Analysis/PD2.1/KEA_isoTOP_DN_All.pdResult'\n",
    "pdReader = PDReader(pd_result_file=file_path)\n",
    "\n",
    "\n",
    "pd_target_peptidesDF = pdReader.get_target_peptides()"
   ]
  },
  {
   "cell_type": "code",
   "execution_count": null,
   "metadata": {
    "collapsed": false
   },
   "outputs": [],
   "source": [
    "ip2_peptide_listDF = pd.read_csv(\"../../../datanocommit/peptideList.csv\")\n",
    "ip2_peptide_listDF['ip2_sequence'] = ip2_peptide_listDF.sequence\n",
    "\n",
    "ip2_peptide_listDF['sequence'] = ip2_peptide_listDF.sequence.str.replace('\\(\\d+\\.\\d+\\)','')"
   ]
  },
  {
   "cell_type": "code",
   "execution_count": null,
   "metadata": {
    "collapsed": false
   },
   "outputs": [],
   "source": [
    "## Find overlap\n",
    "pd_target_peptidesDF['in_ip2'] = pd_target_peptidesDF.Sequence.isin(ip2_peptide_listDF['sequence'])\n",
    "pd_target_peptidesDF['Neglog10_PercolatorqValueMascot'] = pd_target_peptidesDF.PercolatorqValueMascot.apply(lambda x : -np.log10(x+0.0000001))\n",
    "\n",
    "ip2_peptide_listDF['in_pd'] = ip2_peptide_listDF.sequence.isin(pd_target_peptidesDF.Sequence)"
   ]
  },
  {
   "cell_type": "code",
   "execution_count": null,
   "metadata": {
    "collapsed": false
   },
   "outputs": [],
   "source": [
    "ip2_peps = set(ip2_peptide_listDF.sequence)\n",
    "pd_peps = set(pd_target_peptidesDF.Sequence)\n",
    "intersection = ip2_peps & pd_peps\n",
    "\n",
    "msg = 'Num IP2 Peps {0}, num PD Peps {1}, num common peps {2}'.format(len(ip2_peps), len(pd_peps), len(intersection))\n",
    "print(msg)\n",
    "\n",
    "sns.boxplot(x='in_ip2', y='Neglog10_PercolatorqValueMascot', data=pd_target_peptidesDF)\n",
    "plt.figure()\n",
    "\n",
    "sns.violinplot(x=\"in_ip2\", y=\"Neglog10_PercolatorqValueMascot\", data=pd_target_peptidesDF)\n",
    "plt.figure()"
   ]
  },
  {
   "cell_type": "code",
   "execution_count": null,
   "metadata": {
    "collapsed": false
   },
   "outputs": [],
   "source": []
  }
 ],
 "metadata": {
  "kernelspec": {
   "display_name": "Python 3",
   "language": "python",
   "name": "python3"
  },
  "language_info": {
   "codemirror_mode": {
    "name": "ipython",
    "version": 3
   },
   "file_extension": ".py",
   "mimetype": "text/x-python",
   "name": "python",
   "nbconvert_exporter": "python",
   "pygments_lexer": "ipython3",
   "version": "3.6.0"
  }
 },
 "nbformat": 4,
 "nbformat_minor": 2
}
