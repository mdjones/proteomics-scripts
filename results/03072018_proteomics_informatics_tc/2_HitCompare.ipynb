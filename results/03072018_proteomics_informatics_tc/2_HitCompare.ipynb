{
 "cells": [
  {
   "cell_type": "markdown",
   "metadata": {},
   "source": [
    "Just look to see if the sequences overlap"
   ]
  },
  {
   "cell_type": "code",
   "execution_count": 3,
   "metadata": {},
   "outputs": [],
   "source": [
    "## Load any changes to local modules\n",
    "%load_ext autoreload\n",
    "%autoreload 2\n",
    "\n",
    "import os\n",
    "import sys\n",
    "\n",
    "pwd = %pwd\n",
    "\n",
    "module_path = os.path.abspath(os.path.join('{0}/../../'.format(pwd)))\n",
    "if module_path not in sys.path:\n",
    "    sys.path.append(module_path)\n",
    "\n",
    "study_dir = '{}/{}'.format(module_path, 'results/03072018_proteomics_informatics_tc/')\n"
   ]
  },
  {
   "cell_type": "code",
   "execution_count": 4,
   "metadata": {},
   "outputs": [],
   "source": [
    "import pandas as pd\n",
    "import seaborn as sns\n",
    "import matplotlib\n",
    "import matplotlib.pyplot as plt\n",
    "import re\n",
    "import numpy as np\n",
    "%matplotlib inline\n",
    "from IPython.display import display\n",
    "\n",
    "pd.set_option('precision', 5)\n",
    "pd.set_option('max_colwidth', 50)\n",
    "\n",
    "\n",
    "\n",
    "from nbcpact import AnalyzeQuantCompare,Peptide,PeptideGroup,UcbreUtils,PeptidesFromPeptideListBuilder\n",
    "from dpro.protdisc import PDReaderFactory\n",
    "\n",
    "from test.test_analyzequantCompare import * "
   ]
  },
  {
   "cell_type": "code",
   "execution_count": 3,
   "metadata": {},
   "outputs": [],
   "source": [
    "def load_ip2_peptide_list(file_path):\n",
    "    \n",
    "    df = pd.read_csv(file_path)\n",
    "    df['ip2_sequence'] = df.sequence\n",
    "\n",
    "    df['sequence'] = df.sequence.str.replace('\\(\\d+\\.\\d+\\)','')\n",
    "\n",
    "    num_records = df.index.size\n",
    "    num_seqs = len(set(df['sequence']))\n",
    "\n",
    "    decoy_df = df[df['protein'].str.contains('Reverse')]\n",
    "    num_decoy_records = decoy_df.index.size\n",
    "    percent_decoy_records = (num_decoy_records/num_records * 100)\n",
    "    num_decoy_seqs = len(set(decoy_df['sequence']))\n",
    "    percent_decoy_seqs = (num_decoy_seqs/num_seqs * 100)\n",
    "\n",
    "    \n",
    "\n",
    "    df = df[~df['protein'].str.contains('Reverse')]\n",
    "    num_forward_recs = df.index.size\n",
    "    num_forward_seqs = len(set(df['sequence']))\n",
    "    \n",
    "\n",
    "    msg = 'Records: Tot {}, Forward {} , Decoy {} ({:.0f}%)'.format(num_records, \n",
    "                                                               num_forward_recs, \n",
    "                                                               num_decoy_records, \n",
    "                                                               percent_decoy_records)\n",
    "    print(msg)\n",
    "    \n",
    "    msg = 'Sequences: Tot {}, Forward {}, Decoy {} ({:.0f}%)'.format(num_seqs, \n",
    "                                                                      num_forward_seqs, \n",
    "                                                                      num_decoy_seqs, \n",
    "                                                                      percent_decoy_seqs)\n",
    "    print(msg)\n",
    "    \n",
    "    \n",
    "    df['RatioRank'] = df.AREA_MEDIAN_RATIO_1.rank(ascending=True)\n",
    "\n",
    "    ax = sns.regplot(x=\"RatioRank\", y=\"AREA_MEDIAN_RATIO_1\", data=df)\n",
    "    plt.figure()\n",
    "    \n",
    "    intersection = set(df.sequence) & set(decoy_df.sequence)\n",
    "    print('Peptide sequences seen in both the decoy and forward sets {}'.format(intersection))\n",
    "    \n",
    "    return df\n",
    "    \n",
    "\n",
    "\n"
   ]
  },
  {
   "cell_type": "code",
   "execution_count": null,
   "metadata": {},
   "outputs": [],
   "source": []
  },
  {
   "cell_type": "code",
   "execution_count": 4,
   "metadata": {},
   "outputs": [
    {
     "name": "stderr",
     "output_type": "stream",
     "text": [
      "INFO:dpro.protdisc:Data will be read from sqlite:////da/dmp/cb/jonesmic/chemgx/dpro_studies/2018/NomuraCompare/KN80_FullTryptic/KEA_EN80.pdResult\n",
      "INFO:dpro.protdisc:Ignoring 510196 (95.98%) TargetPeptideGroups with a Qvalityqvalue > 0.01. Adjust the fdr param to retain\n",
      "INFO:dpro.protdisc:Ignoring 759245 (92.38%) TargetPsms with a PercolatorqValue > 0.01. Adjust the fdr param to retain\n"
     ]
    },
    {
     "data": {
      "text/plain": [
       "NIBR_INPUT                                                                   None\n",
       "UCB_INPUT                       /home/jonesmic/gBuild/jonesmic_github/proteomi...\n",
       "UCB_OUTPUT                      /home/jonesmic/gBuild/jonesmic_github/proteomi...\n",
       "UCB Enz                                                              Full Tryptic\n",
       "NIBR Enz                                                             Full Tryptic\n",
       "FDR                                                                          0.01\n",
       "UCB Max Internal Cleavages                                                      1\n",
       "NIBR Max Internal Cleavages2                                                    1\n",
       "UCB Diff Mods / Peptide*                                                        2\n",
       "NIBR Diff Mods / Peptide*2                                                      2\n",
       "UCB_FASTA                       ip2_ip2_data_dnomura_database__UniProt_human_0...\n",
       "NIBR_FASTA                      ip2_ip2_data_dnomura_database__UniProt_human_0...\n",
       "Notes                           * In PD diff mods / peptide is 'Max. Equal Mod...\n",
       "Description                     Compare peptides with strict setting and PD FD...\n",
       "Name: 0, dtype: object"
      ]
     },
     "metadata": {},
     "output_type": "display_data"
    },
    {
     "data": {
      "text/plain": [
       "NIBR_INPUT                                                                   None\n",
       "UCB_INPUT                       /home/jonesmic/gBuild/jonesmic_github/proteomi...\n",
       "UCB_OUTPUT                      /home/jonesmic/gBuild/jonesmic_github/proteomi...\n",
       "UCB Enz                                                              Full Tryptic\n",
       "NIBR Enz                                                             Full Tryptic\n",
       "FDR                                                                           NaN\n",
       "UCB Max Internal Cleavages                                                      1\n",
       "NIBR Max Internal Cleavages2                                                    1\n",
       "UCB Diff Mods / Peptide*                                                        2\n",
       "NIBR Diff Mods / Peptide*2                                                      2\n",
       "UCB_FASTA                       ip2_ip2_data_dnomura_database__UniProt_human_0...\n",
       "NIBR_FASTA                      ip2_ip2_data_dnomura_database__UniProt_human_0...\n",
       "Notes                           * In PD diff mods / peptide is 'Max. Equal Mod...\n",
       "Description                     Compare peptides with strict setting and PD FD...\n",
       "Name: 1, dtype: object"
      ]
     },
     "metadata": {},
     "output_type": "display_data"
    },
    {
     "data": {
      "text/plain": [
       "NIBR_INPUT                                                                   None\n",
       "UCB_INPUT                                                                    None\n",
       "UCB_OUTPUT                                                                    NaN\n",
       "UCB Enz                                                              Full Tryptic\n",
       "NIBR Enz                                                             Full Tryptic\n",
       "FDR                                                                          0.01\n",
       "UCB Max Internal Cleavages                                                      1\n",
       "NIBR Max Internal Cleavages2                                                    1\n",
       "UCB Diff Mods / Peptide*                                                        2\n",
       "NIBR Diff Mods / Peptide*2                                                      2\n",
       "UCB_FASTA                       ip2_ip2_data_dnomura_database__UniProt_human_0...\n",
       "NIBR_FASTA                       uniprot.HUMAN_CANON_SMORF.FCE.vJune21_2017.fasta\n",
       "Notes                           * In PD diff mods / peptide is 'Max. Equal Mod...\n",
       "Description                     Compare peptides with strict setting FASTA Can...\n",
       "Name: 2, dtype: object"
      ]
     },
     "metadata": {},
     "output_type": "display_data"
    },
    {
     "data": {
      "text/plain": [
       "NIBR_INPUT                      /da/dmp/cb/jonesmic/chemgx/dpro_studies/2018/N...\n",
       "UCB_INPUT                       /home/jonesmic/gBuild/jonesmic_github/proteomi...\n",
       "UCB_OUTPUT                      /home/jonesmic/gBuild/jonesmic_github/proteomi...\n",
       "UCB Enz                                                              Full Tryptic\n",
       "NIBR Enz                                                             Full Tryptic\n",
       "FDR                                                                          0.01\n",
       "UCB Max Internal Cleavages                                                      1\n",
       "NIBR Max Internal Cleavages2                                                    2\n",
       "UCB Diff Mods / Peptide*                                                        3\n",
       "NIBR Diff Mods / Peptide*2                                                      2\n",
       "UCB_FASTA                       ip2_ip2_data_dnomura_database__UniProt_human_0...\n",
       "NIBR_FASTA                      ip2_ip2_data_dnomura_database__UniProt_human_0...\n",
       "Notes                           * In PD diff mods / peptide is 'Max. Equal Mod...\n",
       "Description                            Compare peptides with loose settings in PD\n",
       "Name: 3, dtype: object"
      ]
     },
     "metadata": {},
     "output_type": "display_data"
    },
    {
     "name": "stdout",
     "output_type": "stream",
     "text": [
      "DONE\n"
     ]
    }
   ],
   "source": [
    "class Comparison:\n",
    "    \n",
    "    def __init__(self, \n",
    "                 nibr_input=None, \n",
    "                 ucb_input=None, \n",
    "                 ucb_output=None, \n",
    "                 desc=None, \n",
    "                 fdr=0.01):\n",
    "        self.nibr_input = nibr_input\n",
    "        self.ucb_input = ucb_input\n",
    "        self.ucb_output = ucb_output\n",
    "        self.desc = desc.copy()\n",
    "        self.fdr = fdr\n",
    "        self.pdReader = None\n",
    "        \n",
    "        if nibr_input:\n",
    "            if os.path.isfile(nibr_input):\n",
    "                factory = PDReaderFactory()\n",
    "                self.pdReader = factory.createPDReader(nibr_input,\n",
    "                                                  include_non_quant=True,\n",
    "                                                  fdr=self.fdr,\n",
    "                                                  validate=True)\n",
    "        \n",
    "file_path = '{}/{}'.format(study_dir, 'comparisons.txt')\n",
    "df = pd.read_table(file_path)\n",
    "\n",
    "comparisons = df.apply(lambda x : Comparison(nibr_input=x['NIBR_INPUT'], \n",
    "                                             ucb_input=x['UCB_INPUT'], \n",
    "                                             ucb_output=x['UCB_OUTPUT'], \n",
    "                                             desc=x, \n",
    "                                             fdr=x['FDR']), \n",
    "                       axis=1)\n",
    "\n",
    "\n",
    "for comp in comparisons:\n",
    "    display(comp.desc)\n",
    "\n",
    "print('DONE')"
   ]
  },
  {
   "cell_type": "code",
   "execution_count": null,
   "metadata": {},
   "outputs": [],
   "source": []
  },
  {
   "cell_type": "code",
   "execution_count": 6,
   "metadata": {},
   "outputs": [
    {
     "data": {
      "text/plain": [
       "NIBR_INPUT                      /da/dmp/cb/jonesmic/chemgx/dpro_studies/2018/N...\n",
       "UCB_INPUT                       /home/jonesmic/gBuild/jonesmic_github/proteomi...\n",
       "UCB_OUTPUT                      /home/jonesmic/gBuild/jonesmic_github/proteomi...\n",
       "UCB Enz                                                              Full Tryptic\n",
       "NIBR Enz                                                             Full Tryptic\n",
       "FDR                                                                          0.01\n",
       "UCB Max Internal Cleavages                                                      1\n",
       "NIBR Max Internal Cleavages2                                                    2\n",
       "UCB Diff Mods / Peptide*                                                        3\n",
       "NIBR Diff Mods / Peptide*2                                                      2\n",
       "UCB_FASTA                       ip2_ip2_data_dnomura_database__UniProt_human_0...\n",
       "NIBR_FASTA                      ip2_ip2_data_dnomura_database__UniProt_human_0...\n",
       "Notes                           * In PD diff mods / peptide is 'Max. Equal Mod...\n",
       "Description                            Compare peptides with loose settings in PD\n",
       "Name: 3, dtype: object"
      ]
     },
     "metadata": {},
     "output_type": "display_data"
    },
    {
     "name": "stdout",
     "output_type": "stream",
     "text": [
      "##################################DATA: BEGIN###################\n",
      "KEY: annotation, LEN: 8562\n",
      "KEY: file_AREA_MEDIAN_RATIO_1, LEN: 8562\n",
      "KEY: UNIQUE_1, LEN: 8562\n",
      "KEY: decoy, LEN: 8562\n",
      "KEY: uniprot_ids, LEN: 8562\n",
      "KEY: mod_locs, LEN: 8562\n",
      "KEY: peptide, LEN: 8562\n",
      "KEY: ip2_peptide, LEN: 8562\n",
      "KEY: ptm_indices, LEN: 8562\n",
      "KEY: area_ratios, LEN: 8562\n",
      "KEY: run_data, LEN: 8562\n",
      "KEY: run_counter, LEN: 8562\n",
      "##################################DATA: END###################\n"
     ]
    },
    {
     "ename": "AttributeError",
     "evalue": "Can only use .str accessor with string values, which use np.object_ dtype in pandas",
     "output_type": "error",
     "traceback": [
      "\u001b[0;31m---------------------------------------------------------------------------\u001b[0m",
      "\u001b[0;31mAttributeError\u001b[0m                            Traceback (most recent call last)",
      "\u001b[0;32m<ipython-input-6-79a2c9016c24>\u001b[0m in \u001b[0;36m<module>\u001b[0;34m()\u001b[0m\n\u001b[1;32m     13\u001b[0m         \u001b[0mgenerated_results_csvDF\u001b[0m \u001b[0;34m=\u001b[0m \u001b[0manalyzeQuantCompare\u001b[0m\u001b[0;34m.\u001b[0m\u001b[0mbuild_results_from_peptide_groups\u001b[0m\u001b[0;34m(\u001b[0m\u001b[0mgroups\u001b[0m\u001b[0;34m=\u001b[0m\u001b[0mgroups\u001b[0m\u001b[0;34m)\u001b[0m\u001b[0;34m\u001b[0m\u001b[0m\n\u001b[1;32m     14\u001b[0m \u001b[0;34m\u001b[0m\u001b[0m\n\u001b[0;32m---> 15\u001b[0;31m         \u001b[0mucbResultsDF\u001b[0m \u001b[0;34m=\u001b[0m \u001b[0mUcbreUtils\u001b[0m\u001b[0;34m.\u001b[0m\u001b[0mread_results_verbose_csv\u001b[0m\u001b[0;34m(\u001b[0m\u001b[0mcomp\u001b[0m\u001b[0;34m.\u001b[0m\u001b[0mucb_output\u001b[0m\u001b[0;34m)\u001b[0m\u001b[0;34m\u001b[0m\u001b[0m\n\u001b[0m\u001b[1;32m     16\u001b[0m \u001b[0;34m\u001b[0m\u001b[0m\n\u001b[1;32m     17\u001b[0m         compare_dataframes(ucbdf=ucbResultsDF, novdf=generated_results_csvDF,\n",
      "\u001b[0;32m~/gBuild/jonesmic_github/proteomics-scripts/nbcpact/ucbre.py\u001b[0m in \u001b[0;36mread_results_verbose_csv\u001b[0;34m(file_path)\u001b[0m\n\u001b[1;32m    216\u001b[0m \u001b[0;34m\u001b[0m\u001b[0m\n\u001b[1;32m    217\u001b[0m         \u001b[0mdf\u001b[0m \u001b[0;34m=\u001b[0m \u001b[0mpd\u001b[0m\u001b[0;34m.\u001b[0m\u001b[0mread_csv\u001b[0m\u001b[0;34m(\u001b[0m\u001b[0mfile_path\u001b[0m\u001b[0;34m,\u001b[0m \u001b[0mnames\u001b[0m\u001b[0;34m=\u001b[0m\u001b[0mheader\u001b[0m\u001b[0;34m,\u001b[0m \u001b[0mheader\u001b[0m\u001b[0;34m=\u001b[0m\u001b[0;32mNone\u001b[0m\u001b[0;34m,\u001b[0m \u001b[0mskiprows\u001b[0m\u001b[0;34m=\u001b[0m\u001b[0;36m1\u001b[0m\u001b[0;34m)\u001b[0m\u001b[0;34m\u001b[0m\u001b[0m\n\u001b[0;32m--> 218\u001b[0;31m         \u001b[0mdf\u001b[0m\u001b[0;34m[\u001b[0m\u001b[0;34m'annotations'\u001b[0m\u001b[0;34m]\u001b[0m \u001b[0;34m=\u001b[0m \u001b[0mdf\u001b[0m\u001b[0;34m[\u001b[0m\u001b[0;34m'annotations'\u001b[0m\u001b[0;34m]\u001b[0m\u001b[0;34m.\u001b[0m\u001b[0mstr\u001b[0m\u001b[0;34m.\u001b[0m\u001b[0mreplace\u001b[0m\u001b[0;34m(\u001b[0m\u001b[0;34m'#'\u001b[0m\u001b[0;34m,\u001b[0m \u001b[0;34m','\u001b[0m\u001b[0;34m)\u001b[0m\u001b[0;34m\u001b[0m\u001b[0m\n\u001b[0m\u001b[1;32m    219\u001b[0m \u001b[0;34m\u001b[0m\u001b[0m\n\u001b[1;32m    220\u001b[0m         \u001b[0;32mreturn\u001b[0m \u001b[0mdf\u001b[0m\u001b[0;34m\u001b[0m\u001b[0m\n",
      "\u001b[0;32m~/anaconda3/envs/nb-cpact/lib/python3.6/site-packages/pandas/core/generic.py\u001b[0m in \u001b[0;36m__getattr__\u001b[0;34m(self, name)\u001b[0m\n\u001b[1;32m   3075\u001b[0m         if (name in self._internal_names_set or name in self._metadata or\n\u001b[1;32m   3076\u001b[0m                 name in self._accessors):\n\u001b[0;32m-> 3077\u001b[0;31m             \u001b[0;32mreturn\u001b[0m \u001b[0mobject\u001b[0m\u001b[0;34m.\u001b[0m\u001b[0m__getattribute__\u001b[0m\u001b[0;34m(\u001b[0m\u001b[0mself\u001b[0m\u001b[0;34m,\u001b[0m \u001b[0mname\u001b[0m\u001b[0;34m)\u001b[0m\u001b[0;34m\u001b[0m\u001b[0m\n\u001b[0m\u001b[1;32m   3078\u001b[0m         \u001b[0;32melse\u001b[0m\u001b[0;34m:\u001b[0m\u001b[0;34m\u001b[0m\u001b[0m\n\u001b[1;32m   3079\u001b[0m             \u001b[0;32mif\u001b[0m \u001b[0mname\u001b[0m \u001b[0;32min\u001b[0m \u001b[0mself\u001b[0m\u001b[0;34m.\u001b[0m\u001b[0m_info_axis\u001b[0m\u001b[0;34m:\u001b[0m\u001b[0;34m\u001b[0m\u001b[0m\n",
      "\u001b[0;32m~/anaconda3/envs/nb-cpact/lib/python3.6/site-packages/pandas/core/base.py\u001b[0m in \u001b[0;36m__get__\u001b[0;34m(self, instance, owner)\u001b[0m\n\u001b[1;32m    241\u001b[0m             \u001b[0;31m# this ensures that Series.str.<method> is well defined\u001b[0m\u001b[0;34m\u001b[0m\u001b[0;34m\u001b[0m\u001b[0m\n\u001b[1;32m    242\u001b[0m             \u001b[0;32mreturn\u001b[0m \u001b[0mself\u001b[0m\u001b[0;34m.\u001b[0m\u001b[0maccessor_cls\u001b[0m\u001b[0;34m\u001b[0m\u001b[0m\n\u001b[0;32m--> 243\u001b[0;31m         \u001b[0;32mreturn\u001b[0m \u001b[0mself\u001b[0m\u001b[0;34m.\u001b[0m\u001b[0mconstruct_accessor\u001b[0m\u001b[0;34m(\u001b[0m\u001b[0minstance\u001b[0m\u001b[0;34m)\u001b[0m\u001b[0;34m\u001b[0m\u001b[0m\n\u001b[0m\u001b[1;32m    244\u001b[0m \u001b[0;34m\u001b[0m\u001b[0m\n\u001b[1;32m    245\u001b[0m     \u001b[0;32mdef\u001b[0m \u001b[0m__set__\u001b[0m\u001b[0;34m(\u001b[0m\u001b[0mself\u001b[0m\u001b[0;34m,\u001b[0m \u001b[0minstance\u001b[0m\u001b[0;34m,\u001b[0m \u001b[0mvalue\u001b[0m\u001b[0;34m)\u001b[0m\u001b[0;34m:\u001b[0m\u001b[0;34m\u001b[0m\u001b[0m\n",
      "\u001b[0;32m~/anaconda3/envs/nb-cpact/lib/python3.6/site-packages/pandas/core/strings.py\u001b[0m in \u001b[0;36m_make_str_accessor\u001b[0;34m(self)\u001b[0m\n\u001b[1;32m   1907\u001b[0m             \u001b[0;31m# (instead of test for object dtype), but that isn't practical for\u001b[0m\u001b[0;34m\u001b[0m\u001b[0;34m\u001b[0m\u001b[0m\n\u001b[1;32m   1908\u001b[0m             \u001b[0;31m# performance reasons until we have a str dtype (GH 9343)\u001b[0m\u001b[0;34m\u001b[0m\u001b[0;34m\u001b[0m\u001b[0m\n\u001b[0;32m-> 1909\u001b[0;31m             raise AttributeError(\"Can only use .str accessor with string \"\n\u001b[0m\u001b[1;32m   1910\u001b[0m                                  \u001b[0;34m\"values, which use np.object_ dtype in \"\u001b[0m\u001b[0;34m\u001b[0m\u001b[0m\n\u001b[1;32m   1911\u001b[0m                                  \"pandas\")\n",
      "\u001b[0;31mAttributeError\u001b[0m: Can only use .str accessor with string values, which use np.object_ dtype in pandas"
     ]
    }
   ],
   "source": [
    "\n",
    "\n",
    "\n",
    "for comp in comparisons:\n",
    "    if comp.pdReader:\n",
    "        display(comp.desc)\n",
    "        \n",
    "        peptide_list_file = comp.ucb_input\n",
    "        #peptide_list_file = '/home/jonesmic/gBuild/jonesmic_github/proteomics-scripts/test/data/peptideList.csv'\n",
    "        peptidesFromPeptideListBuilder = PeptidesFromPeptideListBuilder(peptide_list_file)\n",
    "        analyzeQuantCompare = AnalyzeQuantCompare(peptide_generator=peptidesFromPeptideListBuilder)\n",
    "        groups = analyzeQuantCompare.build_peptide_groups()\n",
    "        generated_results_csvDF = analyzeQuantCompare.build_results_from_peptide_groups(groups=groups)\n",
    "        \n",
    "        ucbResultsDF = UcbreUtils.read_results_verbose_csv(comp.ucb_output)\n",
    "\n",
    "        compare_dataframes(ucbdf=ucbResultsDF, novdf=generated_results_csvDF,\n",
    "                           merge_cols=['Peptide', 'ratios'],\n",
    "                           identical_cols=['run_count', 'uniprot', 'annotations'],\n",
    "                           close_cols=['mean_group_ratio'],\n",
    "                           warn_cols=['ptm_index_from_ip2'])"
   ]
  },
  {
   "cell_type": "code",
   "execution_count": null,
   "metadata": {},
   "outputs": [],
   "source": []
  },
  {
   "cell_type": "code",
   "execution_count": 15,
   "metadata": {},
   "outputs": [
    {
     "ename": "ValueError",
     "evalue": "Length of values does not match length of index",
     "output_type": "error",
     "traceback": [
      "\u001b[0;31m---------------------------------------------------------------------------\u001b[0m",
      "\u001b[0;31mValueError\u001b[0m                                Traceback (most recent call last)",
      "\u001b[0;32m<ipython-input-15-884acf9683ec>\u001b[0m in \u001b[0;36m<module>\u001b[0;34m()\u001b[0m\n\u001b[1;32m      1\u001b[0m \u001b[0mdf\u001b[0m \u001b[0;34m=\u001b[0m \u001b[0mpd\u001b[0m\u001b[0;34m.\u001b[0m\u001b[0mDataFrame\u001b[0m\u001b[0;34m(\u001b[0m\u001b[0mdata\u001b[0m\u001b[0;34m=\u001b[0m\u001b[0;34m{\u001b[0m\u001b[0;34m'Prot'\u001b[0m\u001b[0;34m:\u001b[0m\u001b[0;34m[\u001b[0m\u001b[0;34m'p1'\u001b[0m\u001b[0;34m,\u001b[0m \u001b[0;34m'p2'\u001b[0m\u001b[0;34m,\u001b[0m \u001b[0;34m'p2'\u001b[0m\u001b[0;34m,\u001b[0m \u001b[0;34m'p3'\u001b[0m\u001b[0;34m]\u001b[0m\u001b[0;34m}\u001b[0m\u001b[0;34m)\u001b[0m\u001b[0;34m\u001b[0m\u001b[0m\n\u001b[1;32m      2\u001b[0m \u001b[0;34m\u001b[0m\u001b[0m\n\u001b[0;32m----> 3\u001b[0;31m \u001b[0mdf\u001b[0m\u001b[0;34m[\u001b[0m\u001b[0;34m'STUFF'\u001b[0m\u001b[0;34m]\u001b[0m \u001b[0;34m=\u001b[0m \u001b[0;34m[\u001b[0m\u001b[0;34m'A'\u001b[0m\u001b[0;34m,\u001b[0m \u001b[0;34m'B'\u001b[0m\u001b[0;34m]\u001b[0m\u001b[0;34m\u001b[0m\u001b[0m\n\u001b[0m",
      "\u001b[0;32m~/anaconda3/envs/nb-cpact/lib/python3.6/site-packages/pandas/core/frame.py\u001b[0m in \u001b[0;36m__setitem__\u001b[0;34m(self, key, value)\u001b[0m\n\u001b[1;32m   2329\u001b[0m         \u001b[0;32melse\u001b[0m\u001b[0;34m:\u001b[0m\u001b[0;34m\u001b[0m\u001b[0m\n\u001b[1;32m   2330\u001b[0m             \u001b[0;31m# set column\u001b[0m\u001b[0;34m\u001b[0m\u001b[0;34m\u001b[0m\u001b[0m\n\u001b[0;32m-> 2331\u001b[0;31m             \u001b[0mself\u001b[0m\u001b[0;34m.\u001b[0m\u001b[0m_set_item\u001b[0m\u001b[0;34m(\u001b[0m\u001b[0mkey\u001b[0m\u001b[0;34m,\u001b[0m \u001b[0mvalue\u001b[0m\u001b[0;34m)\u001b[0m\u001b[0;34m\u001b[0m\u001b[0m\n\u001b[0m\u001b[1;32m   2332\u001b[0m \u001b[0;34m\u001b[0m\u001b[0m\n\u001b[1;32m   2333\u001b[0m     \u001b[0;32mdef\u001b[0m \u001b[0m_setitem_slice\u001b[0m\u001b[0;34m(\u001b[0m\u001b[0mself\u001b[0m\u001b[0;34m,\u001b[0m \u001b[0mkey\u001b[0m\u001b[0;34m,\u001b[0m \u001b[0mvalue\u001b[0m\u001b[0;34m)\u001b[0m\u001b[0;34m:\u001b[0m\u001b[0;34m\u001b[0m\u001b[0m\n",
      "\u001b[0;32m~/anaconda3/envs/nb-cpact/lib/python3.6/site-packages/pandas/core/frame.py\u001b[0m in \u001b[0;36m_set_item\u001b[0;34m(self, key, value)\u001b[0m\n\u001b[1;32m   2395\u001b[0m \u001b[0;34m\u001b[0m\u001b[0m\n\u001b[1;32m   2396\u001b[0m         \u001b[0mself\u001b[0m\u001b[0;34m.\u001b[0m\u001b[0m_ensure_valid_index\u001b[0m\u001b[0;34m(\u001b[0m\u001b[0mvalue\u001b[0m\u001b[0;34m)\u001b[0m\u001b[0;34m\u001b[0m\u001b[0m\n\u001b[0;32m-> 2397\u001b[0;31m         \u001b[0mvalue\u001b[0m \u001b[0;34m=\u001b[0m \u001b[0mself\u001b[0m\u001b[0;34m.\u001b[0m\u001b[0m_sanitize_column\u001b[0m\u001b[0;34m(\u001b[0m\u001b[0mkey\u001b[0m\u001b[0;34m,\u001b[0m \u001b[0mvalue\u001b[0m\u001b[0;34m)\u001b[0m\u001b[0;34m\u001b[0m\u001b[0m\n\u001b[0m\u001b[1;32m   2398\u001b[0m         \u001b[0mNDFrame\u001b[0m\u001b[0;34m.\u001b[0m\u001b[0m_set_item\u001b[0m\u001b[0;34m(\u001b[0m\u001b[0mself\u001b[0m\u001b[0;34m,\u001b[0m \u001b[0mkey\u001b[0m\u001b[0;34m,\u001b[0m \u001b[0mvalue\u001b[0m\u001b[0;34m)\u001b[0m\u001b[0;34m\u001b[0m\u001b[0m\n\u001b[1;32m   2399\u001b[0m \u001b[0;34m\u001b[0m\u001b[0m\n",
      "\u001b[0;32m~/anaconda3/envs/nb-cpact/lib/python3.6/site-packages/pandas/core/frame.py\u001b[0m in \u001b[0;36m_sanitize_column\u001b[0;34m(self, key, value, broadcast)\u001b[0m\n\u001b[1;32m   2566\u001b[0m \u001b[0;34m\u001b[0m\u001b[0m\n\u001b[1;32m   2567\u001b[0m             \u001b[0;31m# turn me into an ndarray\u001b[0m\u001b[0;34m\u001b[0m\u001b[0;34m\u001b[0m\u001b[0m\n\u001b[0;32m-> 2568\u001b[0;31m             \u001b[0mvalue\u001b[0m \u001b[0;34m=\u001b[0m \u001b[0m_sanitize_index\u001b[0m\u001b[0;34m(\u001b[0m\u001b[0mvalue\u001b[0m\u001b[0;34m,\u001b[0m \u001b[0mself\u001b[0m\u001b[0;34m.\u001b[0m\u001b[0mindex\u001b[0m\u001b[0;34m,\u001b[0m \u001b[0mcopy\u001b[0m\u001b[0;34m=\u001b[0m\u001b[0;32mFalse\u001b[0m\u001b[0;34m)\u001b[0m\u001b[0;34m\u001b[0m\u001b[0m\n\u001b[0m\u001b[1;32m   2569\u001b[0m             \u001b[0;32mif\u001b[0m \u001b[0;32mnot\u001b[0m \u001b[0misinstance\u001b[0m\u001b[0;34m(\u001b[0m\u001b[0mvalue\u001b[0m\u001b[0;34m,\u001b[0m \u001b[0;34m(\u001b[0m\u001b[0mnp\u001b[0m\u001b[0;34m.\u001b[0m\u001b[0mndarray\u001b[0m\u001b[0;34m,\u001b[0m \u001b[0mIndex\u001b[0m\u001b[0;34m)\u001b[0m\u001b[0;34m)\u001b[0m\u001b[0;34m:\u001b[0m\u001b[0;34m\u001b[0m\u001b[0m\n\u001b[1;32m   2570\u001b[0m                 \u001b[0;32mif\u001b[0m \u001b[0misinstance\u001b[0m\u001b[0;34m(\u001b[0m\u001b[0mvalue\u001b[0m\u001b[0;34m,\u001b[0m \u001b[0mlist\u001b[0m\u001b[0;34m)\u001b[0m \u001b[0;32mand\u001b[0m \u001b[0mlen\u001b[0m\u001b[0;34m(\u001b[0m\u001b[0mvalue\u001b[0m\u001b[0;34m)\u001b[0m \u001b[0;34m>\u001b[0m \u001b[0;36m0\u001b[0m\u001b[0;34m:\u001b[0m\u001b[0;34m\u001b[0m\u001b[0m\n",
      "\u001b[0;32m~/anaconda3/envs/nb-cpact/lib/python3.6/site-packages/pandas/core/series.py\u001b[0m in \u001b[0;36m_sanitize_index\u001b[0;34m(data, index, copy)\u001b[0m\n\u001b[1;32m   2877\u001b[0m \u001b[0;34m\u001b[0m\u001b[0m\n\u001b[1;32m   2878\u001b[0m     \u001b[0;32mif\u001b[0m \u001b[0mlen\u001b[0m\u001b[0;34m(\u001b[0m\u001b[0mdata\u001b[0m\u001b[0;34m)\u001b[0m \u001b[0;34m!=\u001b[0m \u001b[0mlen\u001b[0m\u001b[0;34m(\u001b[0m\u001b[0mindex\u001b[0m\u001b[0;34m)\u001b[0m\u001b[0;34m:\u001b[0m\u001b[0;34m\u001b[0m\u001b[0m\n\u001b[0;32m-> 2879\u001b[0;31m         \u001b[0;32mraise\u001b[0m \u001b[0mValueError\u001b[0m\u001b[0;34m(\u001b[0m\u001b[0;34m'Length of values does not match length of '\u001b[0m \u001b[0;34m'index'\u001b[0m\u001b[0;34m)\u001b[0m\u001b[0;34m\u001b[0m\u001b[0m\n\u001b[0m\u001b[1;32m   2880\u001b[0m \u001b[0;34m\u001b[0m\u001b[0m\n\u001b[1;32m   2881\u001b[0m     \u001b[0;32mif\u001b[0m \u001b[0misinstance\u001b[0m\u001b[0;34m(\u001b[0m\u001b[0mdata\u001b[0m\u001b[0;34m,\u001b[0m \u001b[0mPeriodIndex\u001b[0m\u001b[0;34m)\u001b[0m\u001b[0;34m:\u001b[0m\u001b[0;34m\u001b[0m\u001b[0m\n",
      "\u001b[0;31mValueError\u001b[0m: Length of values does not match length of index"
     ]
    }
   ],
   "source": [
    "df = pd.DataFrame(data={'Prot':['p1', 'p2', 'p2', 'p3']})\n",
    "\n",
    "df['STUFF'] = ['A', 'B']"
   ]
  },
  {
   "cell_type": "code",
   "execution_count": null,
   "metadata": {},
   "outputs": [],
   "source": []
  },
  {
   "cell_type": "code",
   "execution_count": null,
   "metadata": {},
   "outputs": [],
   "source": []
  },
  {
   "cell_type": "code",
   "execution_count": null,
   "metadata": {},
   "outputs": [],
   "source": [
    "pd_file_path = '/da/dmp/cb/jonesmic/chemgx/data/isoTopAnalysis/jonesmic/pd/pd2.2/KEA_EN80_NomiraFastaSequest_FullTryptic/KEA_EN80.pdResult'\n",
    "ip2_file_path = '/home/jonesmic/gBuild/jonesmic_github/proteomics-scripts/datanocommit/peptideList.csv'\n",
    "\n",
    "\n",
    "print('Compare PD on Canonical+Alternative FASTA vs. IP2')\n",
    "print('{} vs. {}'.format(pd_file_path, ip2_file_path))\n",
    "print('load PD')\n",
    "pdReader = PDReader(pd_result_file=pd_file_path, include_non_quant=True)\n",
    "pdDF = pdReader.get_target_peptides(include_additional_data=True)\n",
    "print('Load IP2')\n",
    "ip2DF = load_ip2_peptide_list(ip2_file_path)\n",
    "\n",
    "\n",
    "do_sequence_overlap(ip2DF=ip2DF, pdDF=pdDF)   "
   ]
  },
  {
   "cell_type": "code",
   "execution_count": null,
   "metadata": {},
   "outputs": [],
   "source": [
    "mergeDF = pd.merge(pdDF, ip2DF, left_on='Sequence', right_on='sequence')"
   ]
  },
  {
   "cell_type": "code",
   "execution_count": null,
   "metadata": {},
   "outputs": [],
   "source": [
    "pdDF['IN_IP2'] = pdDF.Sequence.isin(ip2DF.sequence)\n",
    "pdDF['NEG_LOG10_Q'] = pdDF.Qvalityqvalue.apply(lambda x : -np.log10(x+0.0001))\n",
    "print(pdDF.columns)\n",
    "sns.violinplot(y='NEG_LOG10_Q', x='IN_IP2', data=pdDF)\n",
    "\n",
    "pdDF.groupby('IN_IP2')['Qvalityqvalue'].describe()\n"
   ]
  }
 ],
 "metadata": {
  "kernelspec": {
   "display_name": "Python 3",
   "language": "python",
   "name": "python3"
  },
  "language_info": {
   "codemirror_mode": {
    "name": "ipython",
    "version": 3
   },
   "file_extension": ".py",
   "mimetype": "text/x-python",
   "name": "python",
   "nbconvert_exporter": "python",
   "pygments_lexer": "ipython3",
   "version": "3.6.2"
  }
 },
 "nbformat": 4,
 "nbformat_minor": 2
}
